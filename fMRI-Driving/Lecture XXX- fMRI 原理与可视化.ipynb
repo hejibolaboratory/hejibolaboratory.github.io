{
 "cells": [
  {
   "cell_type": "code",
   "execution_count": null,
   "metadata": {},
   "outputs": [],
   "source": [
    "# Visualization of fMRI data in Python\n",
    "\n",
    "## 软件包安装\n",
    "\n",
    "## 示例图像\n",
    "\n"
   ]
  },
  {
   "cell_type": "code",
   "execution_count": null,
   "metadata": {},
   "outputs": [],
   "source": [
    "from lib2to3.pgen2 import pgen\n",
    "from nilearn import datasets\n",
    "\n",
    "atlas_data = datasets.fetch_atlas_msdl()\n",
    "atlas_filename = atlas_data.maps\n",
    "\n",
    "from nilearn import plotting, image\n",
    "\n",
    "# First plot the map for the PCC: index 4 in the atlas\n",
    "display = plotting.plot_stat_map(image.index_img(atlas_filename, 4),\n",
    "                                 colorbar=False,\n",
    "                                 title=\"DMN nodes in MSDL atlas\")\n",
    "\n",
    "# Now add as an overlay the maps for the ACC and the left and right\n",
    "# parietal nodes\n",
    "display.add_overlay(image.index_img(atlas_filename, 5),\n",
    "                    cmap=plotting.cm.black_blue)\n",
    "display.add_overlay(image.index_img(atlas_filename, 6),\n",
    "                    cmap=plotting.cm.black_green)\n",
    "display.add_overlay(image.index_img(atlas_filename, 3),\n",
    "                    cmap=plotting.cm.black_pink)\n",
    "\n",
    "plotting.show()"
   ]
  }
 ],
 "metadata": {
  "language_info": {
   "name": "python"
  },
  "orig_nbformat": 4
 },
 "nbformat": 4,
 "nbformat_minor": 2
}
