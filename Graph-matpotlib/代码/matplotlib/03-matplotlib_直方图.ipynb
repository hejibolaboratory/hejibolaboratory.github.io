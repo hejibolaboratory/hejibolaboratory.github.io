{
 "cells": [
  {
   "cell_type": "code",
   "execution_count": null,
   "metadata": {
    "collapsed": true
   },
   "outputs": [],
   "source": [
    "matplotlib.pyplot.hist(x, bins=10, range=None,normed=False, weights=None, cumulative=False,bottom=None, histtype='bar', align='mid',\n",
    "                       orientation=u'vertical', rwidth=None, log=False,color=None, label=None, stacked=False, hold=None,**kwargs) \n",
    "– x: 一个列表或者多个列表（表示不同数据集，长度可以不一致）\n",
    "– range: 元组\n",
    "– weights: x里每个元素对bin高度的贡献（默认为1）\n",
    "– bottom: 数字或者长度为bins的列表\n",
    "– histtype: ['bar' | 'barstacked' | 'step' | 'stepfilled'] \n",
    "– align: ['left' | 'mid' | 'right'] \n",
    "– orientation: ['horizontal' | 'vertical'] \n",
    "– rwidth: bar相对bin的宽度\n",
    "– color: 一种颜色或者颜色列表（针对不同数据集）"
   ]
  },
  {
   "cell_type": "code",
   "execution_count": 40,
   "metadata": {
    "collapsed": true
   },
   "outputs": [],
   "source": [
    "import matplotlib.pyplot as plt\n",
    "#频率分布直方图\n",
    "data = ([1,1,2,3,3,3,3,3,4,5])    \n",
    "plt.hist(data,10, normed=1)\n",
    "plt.show()"
   ]
  },
  {
   "cell_type": "code",
   "execution_count": 20,
   "metadata": {},
   "outputs": [
    {
     "data": {
      "image/png": "[encoded data removed]",
      "text/plain": [
       "<matplotlib.figure.Figure at 0x200efe518d0>"
      ]
     },
     "metadata": {},
     "output_type": "display_data"
    }
   ],
   "source": [
    "import matplotlib.pyplot as plt\n",
    "import matplotlib as mpl\n",
    "import numpy as np\n",
    "# 设置在jupyter中matplotlib的显示情况\n",
    "%matplotlib inline\n",
    "\n",
    "# 解决中文显示问题\n",
    "mpl.rcParams['font.sans-serif'] = ['SimHei']\n",
    "mpl.rcParams['axes.unicode_minus'] = False\n",
    "\n",
    "#展现出10000个随机数满足 平均值是100 标准差是15 呈现的一个正态分布曲线\n",
    "mu, sigma = 100, 15\n",
    "x = mu + sigma * np.random.randn(10000)\n",
    "\n",
    "plt.hist(x, 100, normed=1, facecolor='g', alpha=0.75)\n",
    "\n",
    "plt.title('直方图')\n",
    "plt.text(60, 0.025,r'$\\mu=100,\\sigma=15$')#添加文本\n",
    "plt.axis([40, 160, 0, 0.03])\n",
    "plt.grid(True)\n",
    "plt.show()"
   ]
  },
  {
   "cell_type": "code",
   "execution_count": null,
   "metadata": {
    "collapsed": true
   },
   "outputs": [],
   "source": []
  }
 ],
 "metadata": {
  "kernelspec": {
   "display_name": "Python 3",
   "language": "python",
   "name": "python3"
  },
  "language_info": {
   "codemirror_mode": {
    "name": "ipython",
    "version": 3
   },
   "file_extension": ".py",
   "mimetype": "text/x-python",
   "name": "python",
   "nbconvert_exporter": "python",
   "pygments_lexer": "ipython3",
   "version": "3.6.2"
  }
 },
 "nbformat": 4,
 "nbformat_minor": 2
}
