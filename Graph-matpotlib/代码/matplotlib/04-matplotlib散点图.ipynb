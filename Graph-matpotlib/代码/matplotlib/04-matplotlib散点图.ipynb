{
 "cells": [
  {
   "cell_type": "raw",
   "metadata": {},
   "source": [
    "matplotlib.pyplot. scatter (x, y, s=none, c=none, marker=none, cmap= None, \n",
    "                            norm=none, vmin=none, vmax=none, alpha=none, Linewidths=none,\n",
    "                            verts=none, edgecolors=none, hold=none, data= None, **kwargs)\n",
    "参数：\n",
    "    x,y:相同长度的数组序列\n",
    "    s  :散点的大小标量或形同数组，可选参数，默认20\n",
    "    c  :散点的色彩或颜色序列，可选\n",
    "    maker:标记风格，可选，默认是‘o’\n",
    "    norm:数据的亮度\n",
    "    alpha:散点的透明度\n",
    "        \n",
    "    "
   ]
  },
  {
   "cell_type": "code",
   "execution_count": 48,
   "metadata": {
    "collapsed": true
   },
   "outputs": [],
   "source": [
    "import matplotlib.pyplot as plt\n",
    "import numpy as np\n",
    "x = [1,2,3,4,5,6,7,8]\n",
    "y = [5,2,4,2,1,4,5,2]\n",
    "T = np.random.rand(8)*125\n",
    "plt.scatter(x,y, label='散点分布', c=T, s=25, marker=\"o\",alpha = 0.5)\n",
    "\n",
    "plt.xlabel('x')\n",
    "plt.ylabel('y')\n",
    "plt.title('散点图')\n",
    "plt.legend()\n",
    "plt.show()"
   ]
  },
  {
   "cell_type": "code",
   "execution_count": 1,
   "metadata": {},
   "outputs": [],
   "source": [
    "import matplotlib.pyplot as plt\n",
    "import matplotlib as mpl\n",
    "import numpy as np\n",
    "\n",
    "# 设置在jupyter中matplotlib的显示情况\n",
    "%matplotlib tk\n",
    "\n",
    "# 解决中文显示问题\n",
    "mpl.rcParams['font.sans-serif'] = ['SimHei']\n",
    "mpl.rcParams['axes.unicode_minus'] = False\n",
    "\n",
    "plt.figure(figsize=(8,6))\n",
    "n=1000\n",
    "#rand 均匀分布和 randn高斯分布\n",
    "x=np.random.randn(1,n)\n",
    "y=np.random.randn(1,n)\n",
    "T=np.arctan2(x,y) #np.random.rand(n) * 125\n",
    "\n",
    "plt.scatter(x,y,c=T,s=30,alpha=0.4,marker='o')\n",
    "#T:散点的颜色\n",
    "#s：散点的大小\n",
    "#alpha:是透明程度\n",
    "plt.show()\n",
    "\n",
    "\n",
    "\n"
   ]
  },
  {
   "cell_type": "code",
   "execution_count": null,
   "metadata": {
    "collapsed": true
   },
   "outputs": [],
   "source": []
  }
 ],
 "metadata": {
  "kernelspec": {
   "display_name": "Python 3",
   "language": "python",
   "name": "python3"
  },
  "language_info": {
   "codemirror_mode": {
    "name": "ipython",
    "version": 3
   },
   "file_extension": ".py",
   "mimetype": "text/x-python",
   "name": "python",
   "nbconvert_exporter": "python",
   "pygments_lexer": "ipython3",
   "version": "3.6.2"
  }
 },
 "nbformat": 4,
 "nbformat_minor": 2
}
