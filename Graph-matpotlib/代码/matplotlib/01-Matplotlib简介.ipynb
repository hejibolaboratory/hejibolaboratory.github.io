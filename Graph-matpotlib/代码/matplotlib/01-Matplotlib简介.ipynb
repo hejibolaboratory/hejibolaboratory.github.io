{
 "cells": [
  {
   "cell_type": "markdown",
   "metadata": {},
   "source": [
    "# matplotlib基本使用"
   ]
  },
  {
   "cell_type": "code",
   "execution_count": 5,
   "metadata": {
    "collapsed": true
   },
   "outputs": [],
   "source": [
    "#导入模块\n",
    "import matplotlib.pyplot as plt \n",
    "import matplotlib as mpl\n",
    "#这一行导入集成的pyplot，我们将在整个系列中使用它。 我们将pyplot导入为plt，这是使用pylot的 python 程序的传统惯例。\n",
    "import numpy as np"
   ]
  },
  {
   "cell_type": "code",
   "execution_count": 6,
   "metadata": {
    "collapsed": true
   },
   "outputs": [],
   "source": [
    "# 设置在jupyter中matplotlib的显示情况\n",
    "%matplotlib tk\n",
    "# %matplotlib inline"
   ]
  },
  {
   "cell_type": "code",
   "execution_count": 7,
   "metadata": {
    "collapsed": true
   },
   "outputs": [],
   "source": [
    "# 解决中文显示问题\n",
    "mpl.rcParams['font.sans-serif'] = ['SimHei']\n",
    "mpl.rcParams['axes.unicode_minus'] = False"
   ]
  },
  {
   "cell_type": "code",
   "execution_count": 142,
   "metadata": {
    "collapsed": true
   },
   "outputs": [],
   "source": [
    "plt.plot([1,2,3],[5,7,4])\n",
    "#接下来，我们调用plot的.plot方法绘制一些坐标。 \n",
    "#这个.plot需要许多参数，但前两个是'x'和'y'坐标，我们放入列表。 这意味着，根据这些列表我们拥有 3 个坐标：1,5 2,7和3,4。\n",
    "\n",
    "plt.show()\n",
    "# plt.plot在后台『绘制』这个绘图，但绘制了我们想要的一切之后，当我们准备好的时候，我们需要把它带到屏幕上。"
   ]
  },
  {
   "cell_type": "markdown",
   "metadata": {},
   "source": [
    "# figure图形"
   ]
  },
  {
   "cell_type": "code",
   "execution_count": 9,
   "metadata": {
    "collapsed": true
   },
   "outputs": [],
   "source": [
    "x = np.arange(-3,3,0.1)\n",
    "y1 = np.sin(x)\n",
    "y2 = np.cos(x)\n",
    "\n",
    "\n",
    "plt.figure()#创建第一个图形\n",
    "plt.plot(x,y1)\n",
    "plt.figure(num = 3,figsize = (8,5))#创建第二个图形\n",
    "plt.plot(x,y2)\n",
    "plt.show()"
   ]
  },
  {
   "cell_type": "markdown",
   "metadata": {},
   "source": [
    "# 颜色标记和线型"
   ]
  },
  {
   "cell_type": "code",
   "execution_count": 10,
   "metadata": {
    "collapsed": true
   },
   "outputs": [],
   "source": [
    "# help(plt.plot)"
   ]
  },
  {
   "cell_type": "code",
   "execution_count": 11,
   "metadata": {},
   "outputs": [
    {
     "data": {
      "text/plain": [
       "[<matplotlib.lines.Line2D at 0x17b3e6a0a58>]"
      ]
     },
     "execution_count": 11,
     "metadata": {},
     "output_type": "execute_result"
    }
   ],
   "source": [
    "# x = np.arange(-3,3,0.1)\n",
    "# y1 = np.sin(x)\n",
    "# y2 = np.cos(x)\n",
    "# plt.plot(x,y1,x,y2)\n",
    "plt.figure()\n",
    "plt.plot([1,2,4,8,16])\n",
    "#如果只接收到一个值就默认为y值 ，而x默认为从0 到 n"
   ]
  },
  {
   "cell_type": "code",
   "execution_count": 12,
   "metadata": {
    "collapsed": true
   },
   "outputs": [],
   "source": [
    "plt.figure()\n",
    "# plot(x,y,color='red', linestyle='dashed', marker='o'.....)\n",
    "# plt.plot([1,2,3],[5,7,4],color='red') \n",
    "# plt.plot([1,2,3],[5,7,4],color='red', linestyle='dashed') \n",
    "# plt.plot([1,2,3],[5,7,4],color='red', linestyle='dashed', marker='o') \n",
    "# plt.plot([1,2,3],[5,7,4],color='red', linestyle='dashed', marker='o',markersize = 10,alpha=0.5) \n",
    "\n",
    "#简写\n",
    "plt.plot([1,2,3],[5,7,4],'ro--')\n",
    "plt.show()"
   ]
  },
  {
   "cell_type": "markdown",
   "metadata": {},
   "source": [
    "# matplotlib刻度、标题、标签和图例"
   ]
  },
  {
   "cell_type": "code",
   "execution_count": 141,
   "metadata": {},
   "outputs": [],
   "source": [
    "x1 = [1,2,3]\n",
    "y1 = [5,7,4]\n",
    "x2 = [1,2,3]\n",
    "y2 = [10,14,12]\n",
    "plt.figure()\n",
    "plt.plot(x1,y1,'ro--',label = 'First Line') #设置线条标签\n",
    "plt.plot(x2,y2,'b-',label = 'Second Line')\n",
    "#设置标题、标签\n",
    "plt.xlabel('月份')#X轴标签\n",
    "plt.ylabel('美元单位/亿')#Y轴标签\n",
    "plt.title('进出口数据')#标题\n",
    "#设置X轴范围\n",
    "plt.xlim(0,6)\n",
    "#设置y轴范围\n",
    "plt.ylim(0,15)\n",
    "#设置X轴刻度\n",
    "plt.xticks(np.linspace(1,6,6),[str(i) + '月' for i in range(1,7)])\n",
    "#设置y轴刻度 \n",
    "plt.yticks(np.arange(0,16,3),['0','300','600','900','1200','1500'])\n",
    "#获取坐标轴信息\n",
    "ax = plt.gca()\n",
    "#设置边框\n",
    "ax.spines['right'].set_color('none')\n",
    "ax.spines['top'].set_color('none')\n",
    "\n",
    "#legend 生成默认图例\n",
    "plt.legend()\n",
    "\n",
    "plt.show()"
   ]
  },
  {
   "cell_type": "markdown",
   "metadata": {},
   "source": [
    "# subplot子图"
   ]
  },
  {
   "cell_type": "code",
   "execution_count": 91,
   "metadata": {
    "collapsed": true
   },
   "outputs": [],
   "source": [
    "x1 = [1,2,3]\n",
    "y1 = [5,7,4]\n",
    "x2 = [1,2,3]\n",
    "y2 = [10,14,12]\n",
    "plt.figure(num=1)\n",
    "plt.subplot(221)\n",
    "plt.plot(x1,y1,'r-')\n",
    "plt.subplot(223)\n",
    "plt.plot(x2,y2,'b--')\n",
    "# plt.subplot(313)\n",
    "# plt.plot([0,1],[1,2])\n",
    "\n",
    "plt.show()"
   ]
  },
  {
   "cell_type": "code",
   "execution_count": 145,
   "metadata": {
    "collapsed": true
   },
   "outputs": [],
   "source": [
    "import matplotlib.pyplot as plt   \n",
    "import numpy as np\n",
    "\n",
    "# 设置在jupyter中matplotlib的显示情况\n",
    "%matplotlib tk\n",
    "\n",
    "# 解决中文显示问题\n",
    "mpl.rcParams['font.sans-serif'] = ['SimHei']\n",
    "mpl.rcParams['axes.unicode_minus'] = False\n",
    "\n",
    "#获取figure对象\n",
    "fig = plt.figure(figsize = (8,6))\n",
    "#在figure上创建对象\n",
    "ax1 = fig.add_subplot(221)\n",
    "ax2 = fig.add_subplot(222)\n",
    "ax3 = fig.add_subplot(212)\n",
    "\n",
    "#在ax1上绘图\n",
    "ax1.plot(np.random.randn(50).cumsum(),'g-')\n",
    "#在ax2上绘图\n",
    "ax2.plot(np.random.randn(50).cumsum(),'b--')\n",
    "#在ax3\n",
    "ax3.plot(np.random.randn(50).cumsum(),'k--')\n",
    "\n",
    "plt.show()"
   ]
  },
  {
   "cell_type": "code",
   "execution_count": 144,
   "metadata": {},
   "outputs": [
    {
     "data": {
      "text/plain": [
       "array([ 2.73490267,  1.998031  ,  2.55400769,  1.77255595,  2.9253759 ,\n",
       "        2.18945203,  2.51913917,  3.85992562,  2.44525218,  3.73973494,\n",
       "        4.23507269,  4.26574636,  3.32652133,  3.45384143,  2.8543719 ,\n",
       "        1.47607474,  1.81081633,  0.19607238,  1.18432749,  1.70629348,\n",
       "        1.22754029,  2.20760655,  2.67495456,  2.93481943,  3.06345963,\n",
       "        2.62966618,  2.19448135,  1.43829773,  3.18171604,  2.89888471,\n",
       "        2.65008293,  5.22388012,  6.16110897,  4.77076579,  4.96956411,\n",
       "        4.62498378,  3.59029213,  3.22254304,  2.51842926,  3.60008273,\n",
       "        3.06193509,  3.19588733,  2.66098476,  3.32602548,  3.81170707,\n",
       "        4.80730351,  4.22207761,  4.83427198,  5.87781425,  4.36586522])"
      ]
     },
     "execution_count": 144,
     "metadata": {},
     "output_type": "execute_result"
    }
   ],
   "source": [
    "np.random.randn(50).cumsum()"
   ]
  },
  {
   "cell_type": "markdown",
   "metadata": {},
   "source": [
    "# subplots"
   ]
  },
  {
   "cell_type": "code",
   "execution_count": 92,
   "metadata": {},
   "outputs": [
    {
     "name": "stdout",
     "output_type": "stream",
     "text": [
      "Figure(640x480)\n",
      "[[<matplotlib.axes._subplots.AxesSubplot object at 0x0000022AA4679400>\n",
      "  <matplotlib.axes._subplots.AxesSubplot object at 0x0000022AAB4CB198>]\n",
      " [<matplotlib.axes._subplots.AxesSubplot object at 0x0000022AABBB1908>\n",
      "  <matplotlib.axes._subplots.AxesSubplot object at 0x0000022AA9DF9358>]]\n"
     ]
    }
   ],
   "source": [
    "fig,axes = plt.subplots(2,2)\n",
    "print(fig)\n",
    "print(axes)"
   ]
  },
  {
   "cell_type": "code",
   "execution_count": 78,
   "metadata": {
    "collapsed": true
   },
   "outputs": [],
   "source": [
    "import matplotlib.pyplot as plt\n",
    "\n",
    "Plot, axes = plt.subplots( nrows=4, ncols=1, sharex=True, sharey=False ) #gridspec_kw={'height_ratios':[2,2,1,1]}\n",
    "\n",
    "Plot.suptitle('test', fontsize=20)#设置fig标题\n",
    "\n",
    "axes[0].plot(range(10),'ro-') \n",
    "axes[1].plot(range(10),'bo-') \n",
    "axes[2].plot(range(10),'go-') \n",
    "axes[3].plot(range(10),'mo-') \n",
    "\n",
    "plt.show()"
   ]
  },
  {
   "cell_type": "code",
   "execution_count": 150,
   "metadata": {},
   "outputs": [],
   "source": [
    "import matplotlib.pyplot as plt\n",
    "import numpy as np\n",
    "import matplotlib as mpl\n",
    "\n",
    "mpl.rcParams['font.sans-serif'] = ['SimHei']\n",
    "mpl.rcParams['axes.unicode_minus'] = False\n",
    "\n",
    "fig, axes = plt.subplots(2,2,sharex=True, sharey=True )\n",
    "\n",
    "for i in range(2):\n",
    "    for j in range(2):\n",
    "        axes[i,j].hist(np.random.randn(100),10,color = 'g',alpha = 0.75)\n",
    "plt.subplots_adjust(wspace = 0.3,hspace = 0.3) #调整子图之间的距离\n",
    "fig.suptitle('test', fontsize=20)\n",
    "plt.savefig('aaa.png',dpi = 50)\n",
    "plt.show()"
   ]
  },
  {
   "cell_type": "raw",
   "metadata": {},
   "source": [
    "练习"
   ]
  },
  {
   "cell_type": "code",
   "execution_count": 146,
   "metadata": {},
   "outputs": [],
   "source": [
    "# 导入 matplotlib 的所有内容（nympy 可以用 np 这个名字来使用）\n",
    "# from pylab import *\n",
    "\n",
    "# 创建一个 8 * 6 点（point）的图，并设置分辨率为 80\n",
    "plt.figure(figsize=(8,6), dpi=80)\n",
    "\n",
    "# 创建一个新的 1 * 1 的子图，接下来的图样绘制在其中的第 1 块（也是唯一的一块）\n",
    "plt.subplot(1,1,1)\n",
    "\n",
    "X = np.linspace(-np.pi, np.pi, 100)\n",
    "C,S = np.cos(X), np.sin(X)\n",
    "\n",
    "# 绘制余弦曲线，使用蓝色的、连续的、宽度为 1 （像素）的线条\n",
    "plt.plot(X, C, color=\"blue\", linewidth=1.0, linestyle=\"--\")\n",
    "\n",
    "# 绘制正弦曲线，使用绿色的、连续的、宽度为 1 （像素）的线条\n",
    "plt.plot(X, S, color=\"green\", linewidth=1.0, linestyle=\"-\")\n",
    "\n",
    "# 设置横轴的上下限\n",
    "plt.xlim(-4.0,4.0)\n",
    "\n",
    "# 设置横轴记号\n",
    "plt.xticks(np.linspace(-4,4,9))\n",
    "\n",
    "# 设置纵轴的上下限\n",
    "plt.ylim(-1.0,1.0)\n",
    "\n",
    "# 设置纵轴记号\n",
    "plt.yticks(np.linspace(-1,1,5))\n",
    "\n",
    "# 以分辨率 72 来保存图片\n",
    "# savefig(\"exercice_2.png\",dpi=72)\n",
    "\n",
    "# 在屏幕上显示\n",
    "plt.show()\n"
   ]
  },
  {
   "cell_type": "code",
   "execution_count": null,
   "metadata": {
    "collapsed": true
   },
   "outputs": [],
   "source": []
  },
  {
   "cell_type": "code",
   "execution_count": null,
   "metadata": {
    "collapsed": true
   },
   "outputs": [],
   "source": []
  }
 ],
 "metadata": {
  "kernelspec": {
   "display_name": "Python 3",
   "language": "python",
   "name": "python3"
  },
  "language_info": {
   "codemirror_mode": {
    "name": "ipython",
    "version": 3
   },
   "file_extension": ".py",
   "mimetype": "text/x-python",
   "name": "python",
   "nbconvert_exporter": "python",
   "pygments_lexer": "ipython3",
   "version": "3.6.2"
  }
 },
 "nbformat": 4,
 "nbformat_minor": 2
}
